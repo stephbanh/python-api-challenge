{
 "cells": [
  {
   "cell_type": "markdown",
   "metadata": {},
   "source": [
    "# VacationPy\n",
    "----\n",
    "\n",
    "#### Note\n",
    "* Keep an eye on your API usage. Use https://developers.google.com/maps/reporting/gmp-reporting as reference for how to monitor your usage and billing.\n",
    "\n",
    "* Instructions have been included for each segment. You do not have to follow them exactly, but they are included to help you think through the steps."
   ]
  },
  {
   "cell_type": "code",
   "execution_count": 1,
   "metadata": {},
   "outputs": [],
   "source": [
    "# Dependencies and Setup\n",
    "import matplotlib.pyplot as plt\n",
    "import pandas as pd\n",
    "pd.options.mode.chained_assignment = None\n",
    "import numpy as np\n",
    "import requests\n",
    "import gmaps\n",
    "import os\n",
    "\n",
    "# Import API key\n",
    "from api_keys import gkey"
   ]
  },
  {
   "cell_type": "markdown",
   "metadata": {},
   "source": [
    "### Store Part I results into DataFrame\n",
    "* Load the csv exported in Part I to a DataFrame"
   ]
  },
  {
   "cell_type": "code",
   "execution_count": 2,
   "metadata": {},
   "outputs": [
    {
     "data": {
      "text/html": [
       "<div>\n",
       "<style scoped>\n",
       "    .dataframe tbody tr th:only-of-type {\n",
       "        vertical-align: middle;\n",
       "    }\n",
       "\n",
       "    .dataframe tbody tr th {\n",
       "        vertical-align: top;\n",
       "    }\n",
       "\n",
       "    .dataframe thead th {\n",
       "        text-align: right;\n",
       "    }\n",
       "</style>\n",
       "<table border=\"1\" class=\"dataframe\">\n",
       "  <thead>\n",
       "    <tr style=\"text-align: right;\">\n",
       "      <th></th>\n",
       "      <th>Unnamed: 0</th>\n",
       "      <th>City</th>\n",
       "      <th>Lat</th>\n",
       "      <th>Lng</th>\n",
       "      <th>Max Temp</th>\n",
       "      <th>Humidity</th>\n",
       "      <th>Cloudiness</th>\n",
       "      <th>Wind Speed</th>\n",
       "      <th>Country</th>\n",
       "      <th>Date</th>\n",
       "    </tr>\n",
       "  </thead>\n",
       "  <tbody>\n",
       "    <tr>\n",
       "      <th>0</th>\n",
       "      <td>0</td>\n",
       "      <td>Ancud</td>\n",
       "      <td>-41.8697</td>\n",
       "      <td>-73.8203</td>\n",
       "      <td>62.33</td>\n",
       "      <td>80</td>\n",
       "      <td>61</td>\n",
       "      <td>2.37</td>\n",
       "      <td>CL</td>\n",
       "      <td>1643067427</td>\n",
       "    </tr>\n",
       "    <tr>\n",
       "      <th>1</th>\n",
       "      <td>1</td>\n",
       "      <td>Aguazul</td>\n",
       "      <td>5.1728</td>\n",
       "      <td>-72.5471</td>\n",
       "      <td>82.13</td>\n",
       "      <td>50</td>\n",
       "      <td>79</td>\n",
       "      <td>1.87</td>\n",
       "      <td>CO</td>\n",
       "      <td>1643067429</td>\n",
       "    </tr>\n",
       "    <tr>\n",
       "      <th>2</th>\n",
       "      <td>2</td>\n",
       "      <td>Hobart</td>\n",
       "      <td>-42.8794</td>\n",
       "      <td>147.3294</td>\n",
       "      <td>69.53</td>\n",
       "      <td>84</td>\n",
       "      <td>75</td>\n",
       "      <td>0.45</td>\n",
       "      <td>AU</td>\n",
       "      <td>1643067431</td>\n",
       "    </tr>\n",
       "    <tr>\n",
       "      <th>3</th>\n",
       "      <td>3</td>\n",
       "      <td>Ushuaia</td>\n",
       "      <td>-54.8000</td>\n",
       "      <td>-68.3000</td>\n",
       "      <td>40.73</td>\n",
       "      <td>87</td>\n",
       "      <td>100</td>\n",
       "      <td>14.40</td>\n",
       "      <td>AR</td>\n",
       "      <td>1643067233</td>\n",
       "    </tr>\n",
       "    <tr>\n",
       "      <th>4</th>\n",
       "      <td>4</td>\n",
       "      <td>Rikitea</td>\n",
       "      <td>-23.1203</td>\n",
       "      <td>-134.9692</td>\n",
       "      <td>76.73</td>\n",
       "      <td>71</td>\n",
       "      <td>100</td>\n",
       "      <td>7.86</td>\n",
       "      <td>PF</td>\n",
       "      <td>1643067433</td>\n",
       "    </tr>\n",
       "  </tbody>\n",
       "</table>\n",
       "</div>"
      ],
      "text/plain": [
       "   Unnamed: 0     City      Lat       Lng  Max Temp  Humidity  Cloudiness  \\\n",
       "0           0    Ancud -41.8697  -73.8203     62.33        80          61   \n",
       "1           1  Aguazul   5.1728  -72.5471     82.13        50          79   \n",
       "2           2   Hobart -42.8794  147.3294     69.53        84          75   \n",
       "3           3  Ushuaia -54.8000  -68.3000     40.73        87         100   \n",
       "4           4  Rikitea -23.1203 -134.9692     76.73        71         100   \n",
       "\n",
       "   Wind Speed Country        Date  \n",
       "0        2.37      CL  1643067427  \n",
       "1        1.87      CO  1643067429  \n",
       "2        0.45      AU  1643067431  \n",
       "3       14.40      AR  1643067233  \n",
       "4        7.86      PF  1643067433  "
      ]
     },
     "execution_count": 2,
     "metadata": {},
     "output_type": "execute_result"
    }
   ],
   "source": [
    "weather_results_file_path = \"../output_data/cities.csv\"\n",
    "csv_reader = pd.read_csv(weather_results_file_path)\n",
    "initial_df = pd.DataFrame(csv_reader)\n",
    "initial_df.head()\n"
   ]
  },
  {
   "cell_type": "markdown",
   "metadata": {},
   "source": [
    "### Humidity Heatmap\n",
    "* Configure gmaps.\n",
    "* Use the Lat and Lng as locations and Humidity as the weight.\n",
    "* Add Heatmap layer to map."
   ]
  },
  {
   "cell_type": "code",
   "execution_count": 3,
   "metadata": {},
   "outputs": [],
   "source": [
    "gmaps.configure(gkey)"
   ]
  },
  {
   "cell_type": "code",
   "execution_count": 4,
   "metadata": {},
   "outputs": [
    {
     "data": {
      "application/vnd.jupyter.widget-view+json": {
       "model_id": "d19cef1aeba944b4a336492555aef19c",
       "version_major": 2,
       "version_minor": 0
      },
      "text/plain": [
       "Figure(layout=FigureLayout(border='1px solid black', height='300px', margin='0 auto 0 auto', padding='1px', wi…"
      ]
     },
     "metadata": {},
     "output_type": "display_data"
    }
   ],
   "source": [
    "locations = initial_df[[\"Lat\", \"Lng\"]]\n",
    "weights = initial_df[\"Humidity\"]\n",
    "figure_layout = {\n",
    "    'width': '400px',\n",
    "    'height': '300px',\n",
    "    'border': '1px solid black',\n",
    "    'padding': '1px',\n",
    "    'margin': '0 auto 0 auto'\n",
    "}\n",
    "\n",
    "fig = gmaps.figure(layout=figure_layout, center = (0,0), zoom_level = 1)\n",
    "fig.add_layer(gmaps.heatmap_layer(locations, weights=weights))\n",
    "fig"
   ]
  },
  {
   "cell_type": "markdown",
   "metadata": {},
   "source": [
    "### Create new DataFrame fitting weather criteria\n",
    "* Narrow down the cities to fit weather conditions.\n",
    "* Drop any rows will null values."
   ]
  },
  {
   "cell_type": "code",
   "execution_count": 5,
   "metadata": {},
   "outputs": [
    {
     "data": {
      "text/plain": [
       "{'City': ['Yaan',\n",
       "  'Codrington',\n",
       "  'Rawson',\n",
       "  'Savalou',\n",
       "  'Podor',\n",
       "  'Koundara',\n",
       "  'Kapoeta'],\n",
       " 'Country': ['NG', 'AU', 'AR', 'BJ', 'MR', 'GN', 'SS'],\n",
       " 'Date': [1643067600,\n",
       "  1643067687,\n",
       "  1643067831,\n",
       "  1643068010,\n",
       "  1643068148,\n",
       "  1643068249,\n",
       "  1643068258],\n",
       " 'Lat': [7.3833, -38.2667, -43.3002, 7.9281, 16.6527, 12.4833, 4.7717],\n",
       " 'Lng': [8.5667, 141.9667, -65.1023, 1.9756, -14.9587, -13.3, 33.5903]}"
      ]
     },
     "execution_count": 5,
     "metadata": {},
     "output_type": "execute_result"
    }
   ],
   "source": [
    "#Narrow down the DataFrame to find your ideal weather condition. For example:\n",
    "#narrow to between 75 and 90\n",
    "# wind speed less then 10 and humidity less then 20\n",
    "# pass in what needs to be mapped to the new dict\n",
    "new_dict = {\"City\": [], \"Country\": [],\"Date\": [], \"Lat\": [], \"Lng\": []}\n",
    "\n",
    "# drop any rows with nulls\n",
    "initial_df.dropna()\n",
    "\n",
    "# could potentially do with loc as well\n",
    "for i in initial_df.iterrows():\n",
    "    #print(i[1])\n",
    "    if (int(i[1][\"Max Temp\"]) > 75) & (int(i[1][\"Max Temp\"]) < 90) & (int(i[1][\"Wind Speed\"]) < 10) & (int(i[1][\"Humidity\"] < 40)):\n",
    "        new_dict[\"City\"].append(i[1][\"City\"])\n",
    "        new_dict[\"Country\"].append(i[1][\"Country\"])\n",
    "        new_dict[\"Date\"].append(i[1][\"Date\"])\n",
    "        new_dict[\"Lat\"].append(i[1][\"Lat\"])\n",
    "        new_dict[\"Lng\"].append(i[1][\"Lng\"])\n",
    "\n",
    "hotel_df = pd.DataFrame(new_dict)\n",
    "new_dict"
   ]
  },
  {
   "cell_type": "markdown",
   "metadata": {},
   "source": [
    "### Hotel Map\n",
    "* Store into variable named `hotel_df`.\n",
    "* Add a \"Hotel Name\" column to the DataFrame.\n",
    "* Set parameters to search for hotels with 5000 meters.\n",
    "* Hit the Google Places API for each city's coordinates.\n",
    "* Store the first Hotel result into the DataFrame.\n",
    "* Plot markers on top of the heatmap."
   ]
  },
  {
   "cell_type": "code",
   "execution_count": 6,
   "metadata": {},
   "outputs": [
    {
     "data": {
      "text/html": [
       "<div>\n",
       "<style scoped>\n",
       "    .dataframe tbody tr th:only-of-type {\n",
       "        vertical-align: middle;\n",
       "    }\n",
       "\n",
       "    .dataframe tbody tr th {\n",
       "        vertical-align: top;\n",
       "    }\n",
       "\n",
       "    .dataframe thead th {\n",
       "        text-align: right;\n",
       "    }\n",
       "</style>\n",
       "<table border=\"1\" class=\"dataframe\">\n",
       "  <thead>\n",
       "    <tr style=\"text-align: right;\">\n",
       "      <th></th>\n",
       "      <th>City</th>\n",
       "      <th>Country</th>\n",
       "      <th>Date</th>\n",
       "      <th>Lat</th>\n",
       "      <th>Lng</th>\n",
       "      <th>Hotel Name</th>\n",
       "    </tr>\n",
       "  </thead>\n",
       "  <tbody>\n",
       "    <tr>\n",
       "      <th>0</th>\n",
       "      <td>Yaan</td>\n",
       "      <td>NG</td>\n",
       "      <td>1643067600</td>\n",
       "      <td>7.3833</td>\n",
       "      <td>8.5667</td>\n",
       "      <td></td>\n",
       "    </tr>\n",
       "    <tr>\n",
       "      <th>1</th>\n",
       "      <td>Codrington</td>\n",
       "      <td>AU</td>\n",
       "      <td>1643067687</td>\n",
       "      <td>-38.2667</td>\n",
       "      <td>141.9667</td>\n",
       "      <td></td>\n",
       "    </tr>\n",
       "    <tr>\n",
       "      <th>2</th>\n",
       "      <td>Rawson</td>\n",
       "      <td>AR</td>\n",
       "      <td>1643067831</td>\n",
       "      <td>-43.3002</td>\n",
       "      <td>-65.1023</td>\n",
       "      <td></td>\n",
       "    </tr>\n",
       "    <tr>\n",
       "      <th>3</th>\n",
       "      <td>Savalou</td>\n",
       "      <td>BJ</td>\n",
       "      <td>1643068010</td>\n",
       "      <td>7.9281</td>\n",
       "      <td>1.9756</td>\n",
       "      <td></td>\n",
       "    </tr>\n",
       "    <tr>\n",
       "      <th>4</th>\n",
       "      <td>Podor</td>\n",
       "      <td>MR</td>\n",
       "      <td>1643068148</td>\n",
       "      <td>16.6527</td>\n",
       "      <td>-14.9587</td>\n",
       "      <td></td>\n",
       "    </tr>\n",
       "    <tr>\n",
       "      <th>5</th>\n",
       "      <td>Koundara</td>\n",
       "      <td>GN</td>\n",
       "      <td>1643068249</td>\n",
       "      <td>12.4833</td>\n",
       "      <td>-13.3000</td>\n",
       "      <td></td>\n",
       "    </tr>\n",
       "    <tr>\n",
       "      <th>6</th>\n",
       "      <td>Kapoeta</td>\n",
       "      <td>SS</td>\n",
       "      <td>1643068258</td>\n",
       "      <td>4.7717</td>\n",
       "      <td>33.5903</td>\n",
       "      <td></td>\n",
       "    </tr>\n",
       "  </tbody>\n",
       "</table>\n",
       "</div>"
      ],
      "text/plain": [
       "         City Country        Date      Lat       Lng Hotel Name\n",
       "0        Yaan      NG  1643067600   7.3833    8.5667           \n",
       "1  Codrington      AU  1643067687 -38.2667  141.9667           \n",
       "2      Rawson      AR  1643067831 -43.3002  -65.1023           \n",
       "3     Savalou      BJ  1643068010   7.9281    1.9756           \n",
       "4       Podor      MR  1643068148  16.6527  -14.9587           \n",
       "5    Koundara      GN  1643068249  12.4833  -13.3000           \n",
       "6     Kapoeta      SS  1643068258   4.7717   33.5903           "
      ]
     },
     "execution_count": 6,
     "metadata": {},
     "output_type": "execute_result"
    }
   ],
   "source": [
    "hotel_df[\"Hotel Name\"] = \"\"\n",
    "hotel_df"
   ]
  },
  {
   "cell_type": "code",
   "execution_count": 7,
   "metadata": {},
   "outputs": [
    {
     "data": {
      "text/html": [
       "<div>\n",
       "<style scoped>\n",
       "    .dataframe tbody tr th:only-of-type {\n",
       "        vertical-align: middle;\n",
       "    }\n",
       "\n",
       "    .dataframe tbody tr th {\n",
       "        vertical-align: top;\n",
       "    }\n",
       "\n",
       "    .dataframe thead th {\n",
       "        text-align: right;\n",
       "    }\n",
       "</style>\n",
       "<table border=\"1\" class=\"dataframe\">\n",
       "  <thead>\n",
       "    <tr style=\"text-align: right;\">\n",
       "      <th></th>\n",
       "      <th>City</th>\n",
       "      <th>Country</th>\n",
       "      <th>Date</th>\n",
       "      <th>Lat</th>\n",
       "      <th>Lng</th>\n",
       "      <th>Hotel Name</th>\n",
       "    </tr>\n",
       "  </thead>\n",
       "  <tbody>\n",
       "    <tr>\n",
       "      <th>0</th>\n",
       "      <td>Yaan</td>\n",
       "      <td>NG</td>\n",
       "      <td>1643067600</td>\n",
       "      <td>7.3833</td>\n",
       "      <td>8.5667</td>\n",
       "      <td>None</td>\n",
       "    </tr>\n",
       "    <tr>\n",
       "      <th>1</th>\n",
       "      <td>Codrington</td>\n",
       "      <td>AU</td>\n",
       "      <td>1643067687</td>\n",
       "      <td>-38.2667</td>\n",
       "      <td>141.9667</td>\n",
       "      <td>Codrington Gardens Bed And Breakfast</td>\n",
       "    </tr>\n",
       "    <tr>\n",
       "      <th>2</th>\n",
       "      <td>Rawson</td>\n",
       "      <td>AR</td>\n",
       "      <td>1643067831</td>\n",
       "      <td>-43.3002</td>\n",
       "      <td>-65.1023</td>\n",
       "      <td>Hosteria Sampedro</td>\n",
       "    </tr>\n",
       "    <tr>\n",
       "      <th>3</th>\n",
       "      <td>Savalou</td>\n",
       "      <td>BJ</td>\n",
       "      <td>1643068010</td>\n",
       "      <td>7.9281</td>\n",
       "      <td>1.9756</td>\n",
       "      <td>Hôtel LE RECONFORT</td>\n",
       "    </tr>\n",
       "    <tr>\n",
       "      <th>4</th>\n",
       "      <td>Podor</td>\n",
       "      <td>MR</td>\n",
       "      <td>1643068148</td>\n",
       "      <td>16.6527</td>\n",
       "      <td>-14.9587</td>\n",
       "      <td>Auberge Du Tékrour</td>\n",
       "    </tr>\n",
       "    <tr>\n",
       "      <th>5</th>\n",
       "      <td>Koundara</td>\n",
       "      <td>GN</td>\n",
       "      <td>1643068249</td>\n",
       "      <td>12.4833</td>\n",
       "      <td>-13.3000</td>\n",
       "      <td>None</td>\n",
       "    </tr>\n",
       "    <tr>\n",
       "      <th>6</th>\n",
       "      <td>Kapoeta</td>\n",
       "      <td>SS</td>\n",
       "      <td>1643068258</td>\n",
       "      <td>4.7717</td>\n",
       "      <td>33.5903</td>\n",
       "      <td>EASTGATE Hotel</td>\n",
       "    </tr>\n",
       "  </tbody>\n",
       "</table>\n",
       "</div>"
      ],
      "text/plain": [
       "         City Country        Date      Lat       Lng  \\\n",
       "0        Yaan      NG  1643067600   7.3833    8.5667   \n",
       "1  Codrington      AU  1643067687 -38.2667  141.9667   \n",
       "2      Rawson      AR  1643067831 -43.3002  -65.1023   \n",
       "3     Savalou      BJ  1643068010   7.9281    1.9756   \n",
       "4       Podor      MR  1643068148  16.6527  -14.9587   \n",
       "5    Koundara      GN  1643068249  12.4833  -13.3000   \n",
       "6     Kapoeta      SS  1643068258   4.7717   33.5903   \n",
       "\n",
       "                             Hotel Name  \n",
       "0                                  None  \n",
       "1  Codrington Gardens Bed And Breakfast  \n",
       "2                     Hosteria Sampedro  \n",
       "3                    Hôtel LE RECONFORT  \n",
       "4                    Auberge Du Tékrour  \n",
       "5                                  None  \n",
       "6                        EASTGATE Hotel  "
      ]
     },
     "execution_count": 7,
     "metadata": {},
     "output_type": "execute_result"
    }
   ],
   "source": [
    "marker_coordinates = []\n",
    "base_url = \"https://maps.googleapis.com/maps/api/place/nearbysearch/json\"\n",
    "\n",
    "for index, row in hotel_df.iterrows():\n",
    "    lat = row[\"Lat\"]\n",
    "    lng = row[\"Lng\"]\n",
    "\n",
    "    target_coordinates = str(lat) + \", \" + str(lng)\n",
    "    target_search = \"hotel\"\n",
    "    target_radius = 5000\n",
    "\n",
    "\n",
    "# set up a parameters dictionary\n",
    "    params = {\n",
    "        \"location\": target_coordinates,\n",
    "        \"keyword\": target_search,\n",
    "        \"radius\": target_radius,\n",
    "        \"key\": gkey\n",
    "    }\n",
    "    try:\n",
    "        response = requests.get(base_url, params=params)\n",
    "        places_data = response.json()\n",
    "        hotel_df[\"Hotel Name\"][index] = places_data[\"results\"][0][\"name\"]\n",
    "        lat_coord = places_data[\"results\"][0][\"geometry\"][\"location\"][\"lat\"]\n",
    "        lng_coord = places_data[\"results\"][0][\"geometry\"][\"location\"][\"lng\"]\n",
    "        coord_tuple = (lat_coord, lng_coord)\n",
    "        marker_coordinates.append(coord_tuple)\n",
    "        \n",
    "    except IndexError:\n",
    "        hotel_df[\"Hotel Name\"][index] = None\n",
    "        lat_coord = lat\n",
    "        lng_coord = lng\n",
    "        coord_tuple = (lat_coord, lng_coord)\n",
    "        marker_coordinates.append(coord_tuple)\n",
    "    \n",
    "# could reformat cities names to be upper case later\n",
    "markers = gmaps.marker_layer(marker_coordinates)\n",
    "fig.add_layer(markers)\n",
    "hotel_df"
   ]
  },
  {
   "cell_type": "code",
   "execution_count": 8,
   "metadata": {},
   "outputs": [
    {
     "data": {
      "text/plain": [
       "[(7.3833, 8.5667),\n",
       " (-38.2846732, 142.0097987),\n",
       " (-43.301509, -65.104922),\n",
       " (7.939984699999998, 1.9857664),\n",
       " (16.6547218, -14.9556862),\n",
       " (12.4833, -13.3),\n",
       " (4.752859, 33.598173)]"
      ]
     },
     "execution_count": 8,
     "metadata": {},
     "output_type": "execute_result"
    }
   ],
   "source": [
    "# check coords\n",
    "marker_coordinates"
   ]
  },
  {
   "cell_type": "code",
   "execution_count": 9,
   "metadata": {},
   "outputs": [],
   "source": [
    "# NOTE: Do not change any of the code in this cell\n",
    "\n",
    "# Using the template add the hotel marks to the heatmap\n",
    "info_box_template = \"\"\"\n",
    "<dl>\n",
    "<dt>Name</dt><dd>{Hotel Name}</dd>\n",
    "<dt>City</dt><dd>{City}</dd>\n",
    "<dt>Country</dt><dd>{Country}</dd>\n",
    "</dl>\n",
    "\"\"\"\n",
    "# Store the DataFrame Row\n",
    "# NOTE: be sure to update with your DataFrame name\n",
    "hotel_info = [info_box_template.format(**row) for index, row in hotel_df.iterrows()]\n",
    "locations = hotel_df[[\"Lat\", \"Lng\"]]"
   ]
  },
  {
   "cell_type": "code",
   "execution_count": 10,
   "metadata": {},
   "outputs": [
    {
     "data": {
      "application/vnd.jupyter.widget-view+json": {
       "model_id": "d19cef1aeba944b4a336492555aef19c",
       "version_major": 2,
       "version_minor": 0
      },
      "text/plain": [
       "Figure(layout=FigureLayout(border='1px solid black', height='300px', margin='0 auto 0 auto', padding='1px', wi…"
      ]
     },
     "metadata": {},
     "output_type": "display_data"
    }
   ],
   "source": [
    "# Add marker layer ontop of heat map\n",
    "markers2 = gmaps.marker_layer(locations, info_box_content=hotel_info,display_info_box=True)\n",
    "fig.add_layer(markers2)\n",
    "\n",
    "# Display figure\n",
    "fig"
   ]
  },
  {
   "cell_type": "code",
   "execution_count": null,
   "metadata": {},
   "outputs": [],
   "source": []
  }
 ],
 "metadata": {
  "kernelspec": {
   "display_name": "Python 3",
   "language": "python",
   "name": "python3"
  },
  "language_info": {
   "codemirror_mode": {
    "name": "ipython",
    "version": 3
   },
   "file_extension": ".py",
   "mimetype": "text/x-python",
   "name": "python",
   "nbconvert_exporter": "python",
   "pygments_lexer": "ipython3",
   "version": "3.7.6"
  },
  "latex_envs": {
   "LaTeX_envs_menu_present": true,
   "autoclose": false,
   "autocomplete": true,
   "bibliofile": "biblio.bib",
   "cite_by": "apalike",
   "current_citInitial": 1,
   "eqLabelWithNumbers": true,
   "eqNumInitial": 1,
   "hotkeys": {
    "equation": "Ctrl-E",
    "itemize": "Ctrl-I"
   },
   "labels_anchors": false,
   "latex_user_defs": false,
   "report_style_numbering": false,
   "user_envs_cfg": false
  }
 },
 "nbformat": 4,
 "nbformat_minor": 4
}
